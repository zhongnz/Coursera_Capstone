{
 "cells": [
  {
   "cell_type": "markdown",
   "metadata": {},
   "source": [
    "# What Restaurant to Open in Australia"
   ]
  },
  {
   "cell_type": "markdown",
   "metadata": {},
   "source": [
    "This project helps the user to decide what restaurant to open in Australia by by exploring the most popular cuisines in Sydney and Melbourne."
   ]
  },
  {
   "cell_type": "markdown",
   "metadata": {},
   "source": [
    "# Introduction/Business Problem"
   ]
  },
  {
   "cell_type": "markdown",
   "metadata": {},
   "source": [
    "The audience is an investor looking to open a restaurant in Australia. However, he/she does not know what type of cuisine would be popular or welcomed. To maximise the success rate of the restaurant, the investor would like to identify the most popular cuisines in Australia. The target audience is restaurant owners. They care about this because it determines the success of their new restaurants. "
   ]
  },
  {
   "cell_type": "markdown",
   "metadata": {},
   "source": [
    "# Data"
   ]
  },
  {
   "cell_type": "markdown",
   "metadata": {},
   "source": [
    "We will retrieve restaurant data from Foursquare and find out the most popular types of cuisines. For the location, we will use data from the two biggest cities in Australia - Sydney and Melbourne. The Foursquare query will return the number of restaurant of each type of cuisines, we then visualise the data by ploting a bar graph. Example: In Sydney, Australia, the most opened restaurant might be Australian food. We would query Foursquare to return a json file, and then retrieve the number of Australian restaurants from the dataset. Features: We will use the features such as cities, cuisines and number of restaurants."
   ]
  },
  {
   "cell_type": "code",
   "execution_count": 60,
   "metadata": {},
   "outputs": [],
   "source": [
    "import pandas as pd\n",
    "import requests"
   ]
  },
  {
   "cell_type": "markdown",
   "metadata": {},
   "source": [
    "Foursquare Credentials"
   ]
  },
  {
   "cell_type": "code",
   "execution_count": 61,
   "metadata": {},
   "outputs": [],
   "source": [
    "CLIENT_ID = '' # your Foursquare ID\n",
    "CLIENT_SECRET = '' # your Foursquare Secret\n",
    "VERSION = '20210106' # Foursquare API version\n",
    "LIMIT = 100 # A default Foursquare API limit value\n",
    "\n",
    "URL = 'https://api.foursquare.com/v2/venues/explore?&client_id={}&client_secret={}&v={}&limit={}'.format(CLIENT_ID, CLIENT_SECRET, VERSION, 5000)"
   ]
  },
  {
   "cell_type": "markdown",
   "metadata": {},
   "source": [
    "To help the user decide what type of cuisines to open in Australia, we explore the most popular cuisines in two of the most popular cities in Australia - Sydney and Melbourne."
   ]
  },
  {
   "cell_type": "code",
   "execution_count": 62,
   "metadata": {},
   "outputs": [],
   "source": [
    "cities = [\"Sydney, Australia\", \"Melbourne, Australia\"]"
   ]
  },
  {
   "cell_type": "markdown",
   "metadata": {},
   "source": [
    "We use the following categories retrived from the Foursquare website."
   ]
  },
  {
   "cell_type": "code",
   "execution_count": 64,
   "metadata": {},
   "outputs": [],
   "source": [
    "cuisines = {\n",
    "    'Afghan': '503288ae91d4c4b30a586d67', \n",
    "    'African': '4bf58dd8d48988d1c8941735', \n",
    "    'American': '4bf58dd8d48988d14e941735', \n",
    "    'Burmese': '56aa371be4b08b9a8d573568', \n",
    "    'Cambodian': '52e81612bcbc57f1066b7a03', \n",
    "    'Chinese': '4bf58dd8d48988d145941735', \n",
    "    'Filipino': '4eb1bd1c3b7b55596b4a748f', \n",
    "    'Himalayan': '52e81612bcbc57f1066b79fb', \n",
    "    'Indonesian': '4deefc054765f83613cdba6f', \n",
    "    'Japanese': '4bf58dd8d48988d111941735', \n",
    "    'Korean': '4bf58dd8d48988d113941735', \n",
    "    'Malay': '4bf58dd8d48988d156941735', \n",
    "    'Mongolian': '4eb1d5724b900d56c88a45fe', \n",
    "    'Thai': '4bf58dd8d48988d149941735', \n",
    "    'Tibetan': '52af39fb3cf9994f4e043be9', \n",
    "    'Vietnamese': '4bf58dd8d48988d14a941735', \n",
    "    'Australian': '4bf58dd8d48988d169941735', \n",
    "    'Austrian': '52e81612bcbc57f1066b7a01', \n",
    "    'Bangladeshi': '5e179ee74ae8e90006e9a746', \n",
    "    'Belgian': '52e81612bcbc57f1066b7a02', \n",
    "    'Caribbean': '4bf58dd8d48988d144941735', \n",
    "    'Caucasian': '5293a7d53cf9994f4e043a45', \n",
    "    'Czech': '52f2ae52bcbc57f1066b8b81', \n",
    "    'Dutch': '5744ccdfe4b0c0459246b4d0', \n",
    "    'Belarusian': '52e928d0bcbc57f1066b7e97', \n",
    "    'Bosnian': '58daa1558bbb0b01f18ec1ee', \n",
    "    'Bulgarian': '56aa371be4b08b9a8d5734f3', \n",
    "    'Romanian': '52960bac3cf9994f4e043ac4', \n",
    "    'Tatar': '52e928d0bcbc57f1066b7e98', \n",
    "    'English': '52e81612bcbc57f1066b7a05', \n",
    "    'French': '4bf58dd8d48988d10c941735', \n",
    "    'German': '4bf58dd8d48988d10d941735', \n",
    "    'Greek': '4bf58dd8d48988d10e941735', \n",
    "    'Hawaiian': '52e81612bcbc57f1066b79fe', \n",
    "    'Hungarian': '52e81612bcbc57f1066b79fa', \n",
    "    'Indian': '4bf58dd8d48988d10f941735', \n",
    "    'Italian': '4bf58dd8d48988d110941735', \n",
    "    'Salvadoran': '5745c7ac498e5d0483112fdb', \n",
    "    'Argentinian': '4bf58dd8d48988d107941735', \n",
    "    'Brazilian': '4bf58dd8d48988d16b941735', \n",
    "    'Colombian': '58daa1558bbb0b01f18ec1f4', \n",
    "    'Peruvian': '4eb1bfa43b7b52c0e1adc2e8', \n",
    "    'Venezuelan': '56aa371be4b08b9a8d573558', \n",
    "    'Moroccan': '4bf58dd8d48988d1c3941735', \n",
    "    'Mexican': '4bf58dd8d48988d1c1941735', \n",
    "    'Egyptian': '5bae9231bedf3950379f89e1', \n",
    "    'Iraqi': '5bae9231bedf3950379f89e7', \n",
    "    'Israeli': '56aa371be4b08b9a8d573529', \n",
    "    'Kurdish': '5744ccdfe4b0c0459246b4ca', \n",
    "    'Lebanese': '58daa1558bbb0b01f18ec1cd', \n",
    "    'Persian': '52e81612bcbc57f1066b79f7', \n",
    "    'Syrian': '5bae9231bedf3950379f89da', \n",
    "    'Yemeni': '5bae9231bedf3950379f89ea', \n",
    "    'Pakistani': '52e81612bcbc57f1066b79f8', \n",
    "    'Polish': '52e81612bcbc57f1066b7a04', \n",
    "    'Portuguese': '4def73e84765ae376e57713a', \n",
    "    'Russian': '5293a7563cf9994f4e043a44', \n",
    "    'Scandinavian': '4bf58dd8d48988d1c6941735', \n",
    "    'Scottish': '5744ccdde4b0c0459246b4a3', \n",
    "    'Slovak': '56aa371be4b08b9a8d57355a', \n",
    "    'Spanish': '4bf58dd8d48988d150941735', \n",
    "    'Sri Lankan': '5413605de4b0ae91d18581a9', \n",
    "    'Swiss': '4bf58dd8d48988d158941735', \n",
    "    'Turkish': '4f04af1f2fb6e1c99f3db0bb', \n",
    "    'Ukranian': '52e928d0bcbc57f1066b7e96'\n",
    "}"
   ]
  },
  {
   "cell_type": "markdown",
   "metadata": {},
   "source": [
    "Query the city, cuisine and total number of each cuisine."
   ]
  },
  {
   "cell_type": "code",
   "execution_count": 47,
   "metadata": {},
   "outputs": [
    {
     "name": "stdout",
     "output_type": "stream",
     "text": [
      "Sydney, Australia\n",
      "Melbourne, Australia\n"
     ]
    },
    {
     "data": {
      "text/html": [
       "<div>\n",
       "<style scoped>\n",
       "    .dataframe tbody tr th:only-of-type {\n",
       "        vertical-align: middle;\n",
       "    }\n",
       "\n",
       "    .dataframe tbody tr th {\n",
       "        vertical-align: top;\n",
       "    }\n",
       "\n",
       "    .dataframe thead th {\n",
       "        text-align: right;\n",
       "    }\n",
       "</style>\n",
       "<table border=\"1\" class=\"dataframe\">\n",
       "  <thead>\n",
       "    <tr style=\"text-align: right;\">\n",
       "      <th></th>\n",
       "      <th>City</th>\n",
       "      <th>Cuisine</th>\n",
       "      <th>Number of restaurants</th>\n",
       "    </tr>\n",
       "  </thead>\n",
       "  <tbody>\n",
       "    <tr>\n",
       "      <th>0</th>\n",
       "      <td>Sydney, Australia</td>\n",
       "      <td>Afghan</td>\n",
       "      <td>4</td>\n",
       "    </tr>\n",
       "    <tr>\n",
       "      <th>1</th>\n",
       "      <td>Sydney, Australia</td>\n",
       "      <td>African</td>\n",
       "      <td>11</td>\n",
       "    </tr>\n",
       "    <tr>\n",
       "      <th>2</th>\n",
       "      <td>Sydney, Australia</td>\n",
       "      <td>American</td>\n",
       "      <td>66</td>\n",
       "    </tr>\n",
       "    <tr>\n",
       "      <th>3</th>\n",
       "      <td>Sydney, Australia</td>\n",
       "      <td>Burmese</td>\n",
       "      <td>1</td>\n",
       "    </tr>\n",
       "    <tr>\n",
       "      <th>4</th>\n",
       "      <td>Sydney, Australia</td>\n",
       "      <td>Cambodian</td>\n",
       "      <td>4</td>\n",
       "    </tr>\n",
       "    <tr>\n",
       "      <th>...</th>\n",
       "      <td>...</td>\n",
       "      <td>...</td>\n",
       "      <td>...</td>\n",
       "    </tr>\n",
       "    <tr>\n",
       "      <th>125</th>\n",
       "      <td>Melbourne, Australia</td>\n",
       "      <td>Spanish</td>\n",
       "      <td>56</td>\n",
       "    </tr>\n",
       "    <tr>\n",
       "      <th>126</th>\n",
       "      <td>Melbourne, Australia</td>\n",
       "      <td>Sri Lankan</td>\n",
       "      <td>7</td>\n",
       "    </tr>\n",
       "    <tr>\n",
       "      <th>127</th>\n",
       "      <td>Melbourne, Australia</td>\n",
       "      <td>Swiss</td>\n",
       "      <td>5</td>\n",
       "    </tr>\n",
       "    <tr>\n",
       "      <th>128</th>\n",
       "      <td>Melbourne, Australia</td>\n",
       "      <td>Turkish</td>\n",
       "      <td>34</td>\n",
       "    </tr>\n",
       "    <tr>\n",
       "      <th>129</th>\n",
       "      <td>Melbourne, Australia</td>\n",
       "      <td>Ukranian</td>\n",
       "      <td>0</td>\n",
       "    </tr>\n",
       "  </tbody>\n",
       "</table>\n",
       "<p>130 rows × 3 columns</p>\n",
       "</div>"
      ],
      "text/plain": [
       "                     City     Cuisine Number of restaurants\n",
       "0       Sydney, Australia      Afghan                     4\n",
       "1       Sydney, Australia     African                    11\n",
       "2       Sydney, Australia    American                    66\n",
       "3       Sydney, Australia     Burmese                     1\n",
       "4       Sydney, Australia   Cambodian                     4\n",
       "..                    ...         ...                   ...\n",
       "125  Melbourne, Australia     Spanish                    56\n",
       "126  Melbourne, Australia  Sri Lankan                     7\n",
       "127  Melbourne, Australia       Swiss                     5\n",
       "128  Melbourne, Australia     Turkish                    34\n",
       "129  Melbourne, Australia    Ukranian                     0\n",
       "\n",
       "[130 rows x 3 columns]"
      ]
     },
     "execution_count": 47,
     "metadata": {},
     "output_type": "execute_result"
    }
   ],
   "source": [
    "restaurants = pd.DataFrame(columns=['City', 'Cuisine', 'Number of restaurants'])\n",
    "for city in cities:\n",
    "    print(city)\n",
    "    for cuisine_name, category_id in cuisines.items():\n",
    "        query = requests.get(\"{url}&near={city}&categoryId={category_id}\".format(url=URL, city=city, category_id=category_id))\n",
    "        if query.status_code == 200:\n",
    "            number = query.json()\n",
    "            restaurants = restaurants.append({\n",
    "                'City': city,\n",
    "                'Cuisine': cuisine_name,\n",
    "                'Number of restaurants': number['response']['totalResults']\n",
    "            }, ignore_index=True)\n",
    "        \n",
    "restaurants"
   ]
  },
  {
   "cell_type": "markdown",
   "metadata": {},
   "source": [
    "One-hot Encoding"
   ]
  },
  {
   "cell_type": "code",
   "execution_count": 68,
   "metadata": {},
   "outputs": [],
   "source": [
    "restaurants_onehot = pd.get_dummies(restaurants['Cuisine'], prefix=\"\", prefix_sep=\"\")\n",
    "restaurants_onehot = restaurants_onehot.multiply(restaurants['Number of restaurants'], axis=0)\n",
    "restaurants_onehot = pd.concat([restaurants['City'], restaurants_onehot], axis=1)\n",
    "\n",
    "cuisines_city = restaurants_onehot.groupby('City').sum().reset_index()\n",
    "cuisines_city = cuisines_city.set_index(keys='City')"
   ]
  },
  {
   "cell_type": "markdown",
   "metadata": {},
   "source": [
    "Group by City"
   ]
  },
  {
   "cell_type": "code",
   "execution_count": 69,
   "metadata": {},
   "outputs": [
    {
     "data": {
      "text/html": [
       "<div>\n",
       "<style scoped>\n",
       "    .dataframe tbody tr th:only-of-type {\n",
       "        vertical-align: middle;\n",
       "    }\n",
       "\n",
       "    .dataframe tbody tr th {\n",
       "        vertical-align: top;\n",
       "    }\n",
       "\n",
       "    .dataframe thead th {\n",
       "        text-align: right;\n",
       "    }\n",
       "</style>\n",
       "<table border=\"1\" class=\"dataframe\">\n",
       "  <thead>\n",
       "    <tr style=\"text-align: right;\">\n",
       "      <th></th>\n",
       "      <th>Afghan</th>\n",
       "      <th>African</th>\n",
       "      <th>American</th>\n",
       "      <th>Argentinian</th>\n",
       "      <th>Australian</th>\n",
       "      <th>Austrian</th>\n",
       "      <th>Bangladeshi</th>\n",
       "      <th>Belarusian</th>\n",
       "      <th>Belgian</th>\n",
       "      <th>Bosnian</th>\n",
       "      <th>...</th>\n",
       "      <th>Swiss</th>\n",
       "      <th>Syrian</th>\n",
       "      <th>Tatar</th>\n",
       "      <th>Thai</th>\n",
       "      <th>Tibetan</th>\n",
       "      <th>Turkish</th>\n",
       "      <th>Ukranian</th>\n",
       "      <th>Venezuelan</th>\n",
       "      <th>Vietnamese</th>\n",
       "      <th>Yemeni</th>\n",
       "    </tr>\n",
       "    <tr>\n",
       "      <th>City</th>\n",
       "      <th></th>\n",
       "      <th></th>\n",
       "      <th></th>\n",
       "      <th></th>\n",
       "      <th></th>\n",
       "      <th></th>\n",
       "      <th></th>\n",
       "      <th></th>\n",
       "      <th></th>\n",
       "      <th></th>\n",
       "      <th></th>\n",
       "      <th></th>\n",
       "      <th></th>\n",
       "      <th></th>\n",
       "      <th></th>\n",
       "      <th></th>\n",
       "      <th></th>\n",
       "      <th></th>\n",
       "      <th></th>\n",
       "      <th></th>\n",
       "      <th></th>\n",
       "    </tr>\n",
       "  </thead>\n",
       "  <tbody>\n",
       "    <tr>\n",
       "      <th>Melbourne, Australia</th>\n",
       "      <td>5</td>\n",
       "      <td>11</td>\n",
       "      <td>61</td>\n",
       "      <td>7</td>\n",
       "      <td>142</td>\n",
       "      <td>7</td>\n",
       "      <td>2</td>\n",
       "      <td>0</td>\n",
       "      <td>13</td>\n",
       "      <td>0</td>\n",
       "      <td>...</td>\n",
       "      <td>5</td>\n",
       "      <td>2</td>\n",
       "      <td>0</td>\n",
       "      <td>185</td>\n",
       "      <td>2</td>\n",
       "      <td>34</td>\n",
       "      <td>0</td>\n",
       "      <td>0</td>\n",
       "      <td>160</td>\n",
       "      <td>2</td>\n",
       "    </tr>\n",
       "    <tr>\n",
       "      <th>Sydney, Australia</th>\n",
       "      <td>4</td>\n",
       "      <td>11</td>\n",
       "      <td>66</td>\n",
       "      <td>4</td>\n",
       "      <td>197</td>\n",
       "      <td>4</td>\n",
       "      <td>7</td>\n",
       "      <td>0</td>\n",
       "      <td>12</td>\n",
       "      <td>1</td>\n",
       "      <td>...</td>\n",
       "      <td>6</td>\n",
       "      <td>3</td>\n",
       "      <td>0</td>\n",
       "      <td>230</td>\n",
       "      <td>1</td>\n",
       "      <td>60</td>\n",
       "      <td>0</td>\n",
       "      <td>0</td>\n",
       "      <td>193</td>\n",
       "      <td>1</td>\n",
       "    </tr>\n",
       "  </tbody>\n",
       "</table>\n",
       "<p>2 rows × 65 columns</p>\n",
       "</div>"
      ],
      "text/plain": [
       "                      Afghan  African  American  Argentinian  Australian  \\\n",
       "City                                                                       \n",
       "Melbourne, Australia       5       11        61            7         142   \n",
       "Sydney, Australia          4       11        66            4         197   \n",
       "\n",
       "                      Austrian  Bangladeshi  Belarusian  Belgian  Bosnian  \\\n",
       "City                                                                        \n",
       "Melbourne, Australia         7            2           0       13        0   \n",
       "Sydney, Australia            4            7           0       12        1   \n",
       "\n",
       "                      ...  Swiss  Syrian  Tatar  Thai  Tibetan  Turkish  \\\n",
       "City                  ...                                                 \n",
       "Melbourne, Australia  ...      5       2      0   185        2       34   \n",
       "Sydney, Australia     ...      6       3      0   230        1       60   \n",
       "\n",
       "                      Ukranian  Venezuelan  Vietnamese  Yemeni  \n",
       "City                                                            \n",
       "Melbourne, Australia         0           0         160       2  \n",
       "Sydney, Australia            0           0         193       1  \n",
       "\n",
       "[2 rows x 65 columns]"
      ]
     },
     "execution_count": 69,
     "metadata": {},
     "output_type": "execute_result"
    }
   ],
   "source": [
    "cuisines_city = restaurants_onehot.groupby('City').sum().reset_index()\n",
    "cuisines_city = cuisines_city.set_index(keys='City')\n",
    "\n",
    "cuisines_city"
   ]
  },
  {
   "cell_type": "markdown",
   "metadata": {},
   "source": [
    "Normalisation"
   ]
  },
  {
   "cell_type": "code",
   "execution_count": 70,
   "metadata": {},
   "outputs": [
    {
     "data": {
      "text/html": [
       "<div>\n",
       "<style scoped>\n",
       "    .dataframe tbody tr th:only-of-type {\n",
       "        vertical-align: middle;\n",
       "    }\n",
       "\n",
       "    .dataframe tbody tr th {\n",
       "        vertical-align: top;\n",
       "    }\n",
       "\n",
       "    .dataframe thead th {\n",
       "        text-align: right;\n",
       "    }\n",
       "</style>\n",
       "<table border=\"1\" class=\"dataframe\">\n",
       "  <thead>\n",
       "    <tr style=\"text-align: right;\">\n",
       "      <th></th>\n",
       "      <th>Afghan</th>\n",
       "      <th>African</th>\n",
       "      <th>American</th>\n",
       "      <th>Argentinian</th>\n",
       "      <th>Australian</th>\n",
       "      <th>Austrian</th>\n",
       "      <th>Bangladeshi</th>\n",
       "      <th>Belarusian</th>\n",
       "      <th>Belgian</th>\n",
       "      <th>Bosnian</th>\n",
       "      <th>...</th>\n",
       "      <th>Swiss</th>\n",
       "      <th>Syrian</th>\n",
       "      <th>Tatar</th>\n",
       "      <th>Thai</th>\n",
       "      <th>Tibetan</th>\n",
       "      <th>Turkish</th>\n",
       "      <th>Ukranian</th>\n",
       "      <th>Venezuelan</th>\n",
       "      <th>Vietnamese</th>\n",
       "      <th>Yemeni</th>\n",
       "    </tr>\n",
       "    <tr>\n",
       "      <th>City</th>\n",
       "      <th></th>\n",
       "      <th></th>\n",
       "      <th></th>\n",
       "      <th></th>\n",
       "      <th></th>\n",
       "      <th></th>\n",
       "      <th></th>\n",
       "      <th></th>\n",
       "      <th></th>\n",
       "      <th></th>\n",
       "      <th></th>\n",
       "      <th></th>\n",
       "      <th></th>\n",
       "      <th></th>\n",
       "      <th></th>\n",
       "      <th></th>\n",
       "      <th></th>\n",
       "      <th></th>\n",
       "      <th></th>\n",
       "      <th></th>\n",
       "      <th></th>\n",
       "    </tr>\n",
       "  </thead>\n",
       "  <tbody>\n",
       "    <tr>\n",
       "      <th>Melbourne, Australia</th>\n",
       "      <td>0.255754</td>\n",
       "      <td>0.562660</td>\n",
       "      <td>3.120205</td>\n",
       "      <td>0.358056</td>\n",
       "      <td>7.263427</td>\n",
       "      <td>0.358056</td>\n",
       "      <td>0.102302</td>\n",
       "      <td>0.0</td>\n",
       "      <td>0.664962</td>\n",
       "      <td>0.000000</td>\n",
       "      <td>...</td>\n",
       "      <td>0.255754</td>\n",
       "      <td>0.102302</td>\n",
       "      <td>0.0</td>\n",
       "      <td>9.462916</td>\n",
       "      <td>0.102302</td>\n",
       "      <td>1.739130</td>\n",
       "      <td>0.0</td>\n",
       "      <td>0.0</td>\n",
       "      <td>8.184143</td>\n",
       "      <td>0.102302</td>\n",
       "    </tr>\n",
       "    <tr>\n",
       "      <th>Sydney, Australia</th>\n",
       "      <td>0.152730</td>\n",
       "      <td>0.420008</td>\n",
       "      <td>2.520046</td>\n",
       "      <td>0.152730</td>\n",
       "      <td>7.521955</td>\n",
       "      <td>0.152730</td>\n",
       "      <td>0.267278</td>\n",
       "      <td>0.0</td>\n",
       "      <td>0.458190</td>\n",
       "      <td>0.038183</td>\n",
       "      <td>...</td>\n",
       "      <td>0.229095</td>\n",
       "      <td>0.114548</td>\n",
       "      <td>0.0</td>\n",
       "      <td>8.781978</td>\n",
       "      <td>0.038183</td>\n",
       "      <td>2.290951</td>\n",
       "      <td>0.0</td>\n",
       "      <td>0.0</td>\n",
       "      <td>7.369225</td>\n",
       "      <td>0.038183</td>\n",
       "    </tr>\n",
       "  </tbody>\n",
       "</table>\n",
       "<p>2 rows × 65 columns</p>\n",
       "</div>"
      ],
      "text/plain": [
       "                        Afghan   African  American  Argentinian  Australian  \\\n",
       "City                                                                          \n",
       "Melbourne, Australia  0.255754  0.562660  3.120205     0.358056    7.263427   \n",
       "Sydney, Australia     0.152730  0.420008  2.520046     0.152730    7.521955   \n",
       "\n",
       "                      Austrian  Bangladeshi  Belarusian   Belgian   Bosnian  \\\n",
       "City                                                                          \n",
       "Melbourne, Australia  0.358056     0.102302         0.0  0.664962  0.000000   \n",
       "Sydney, Australia     0.152730     0.267278         0.0  0.458190  0.038183   \n",
       "\n",
       "                      ...     Swiss    Syrian  Tatar      Thai   Tibetan  \\\n",
       "City                  ...                                                  \n",
       "Melbourne, Australia  ...  0.255754  0.102302    0.0  9.462916  0.102302   \n",
       "Sydney, Australia     ...  0.229095  0.114548    0.0  8.781978  0.038183   \n",
       "\n",
       "                       Turkish  Ukranian  Venezuelan  Vietnamese    Yemeni  \n",
       "City                                                                        \n",
       "Melbourne, Australia  1.739130       0.0         0.0    8.184143  0.102302  \n",
       "Sydney, Australia     2.290951       0.0         0.0    7.369225  0.038183  \n",
       "\n",
       "[2 rows x 65 columns]"
      ]
     },
     "execution_count": 70,
     "metadata": {},
     "output_type": "execute_result"
    }
   ],
   "source": [
    "cuisines_city_normalized = cuisines_city.div(cuisines_city.sum(axis=1), axis=0)\n",
    "cuisines_city_normalized = 100*cuisines_city_normalized\n",
    "\n",
    "cuisines_city_normalized"
   ]
  },
  {
   "cell_type": "markdown",
   "metadata": {},
   "source": [
    "Plot bar graph of top ten cuisines in Sydney and Melbourne."
   ]
  },
  {
   "cell_type": "code",
   "execution_count": 72,
   "metadata": {},
   "outputs": [
    {
     "data": {
      "image/png": "[encoded data removed]",
      "text/plain": [
       "<Figure size 1152x1008 with 2 Axes>"
      ]
     },
     "metadata": {},
     "output_type": "display_data"
    }
   ],
   "source": [
    "import matplotlib as mpl\n",
    "import matplotlib.pyplot as plt\n",
    "%matplotlib inline\n",
    "mpl.style.use(['seaborn'])\n",
    "\n",
    "fig = plt.figure()\n",
    "for index, city in enumerate(cities):\n",
    "    ax = fig.add_subplot(3, 3, index+1)\n",
    "\n",
    "    cuisines = cuisines_city_normalized.loc[city]\n",
    "    cuisines = cuisines.sort_values(ascending=False).head(10).sort_values(ascending=True)\n",
    "\n",
    "    cuisines.plot(kind='barh', ax=ax, figsize=(16, 14), color=list(color))\n",
    "    ax.set_title(city)\n",
    "    ax.set_xlabel(\"% of restaurants\")"
   ]
  },
  {
   "cell_type": "markdown",
   "metadata": {},
   "source": [
    "We can see that Chinese, Japanese and Thai are among the top three most popular cuisines in Sydney and Melboure. Therefore, our analysis recommends to open Chinese, Japanese or Thai restaurant in Australia."
   ]
  },
  {
   "cell_type": "code",
   "execution_count": null,
   "metadata": {},
   "outputs": [],
   "source": []
  }
 ],
 "metadata": {
  "kernelspec": {
   "display_name": "Python 3",
   "language": "python",
   "name": "python3"
  },
  "language_info": {
   "codemirror_mode": {
    "name": "ipython",
    "version": 3
   },
   "file_extension": ".py",
   "mimetype": "text/x-python",
   "name": "python",
   "nbconvert_exporter": "python",
   "pygments_lexer": "ipython3",
   "version": "3.9.1"
  }
 },
 "nbformat": 4,
 "nbformat_minor": 4
}
